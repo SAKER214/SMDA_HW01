{
 "cells": [
  {
   "cell_type": "code",
   "execution_count": 1,
   "metadata": {
    "collapsed": false
   },
   "outputs": [],
   "source": [
    "# 社群媒體資料分析實務 第一次作業 M10515038 唐毅"
   ]
  },
  {
   "cell_type": "code",
   "execution_count": 2,
   "metadata": {
    "collapsed": true
   },
   "outputs": [],
   "source": [
    "import elasticsearch\n",
    "import pyes\n",
    "import json\n",
    "\n",
    "import pandas as pd\n",
    "import numpy as np\n",
    "\n",
    "%matplotlib inline\n",
    "\n",
    "#months = ['Jan.', 'Feb.', 'Mar.', 'Apr.', 'May.', 'Jun.', 'Jul.', 'Aug.', 'Sep.', 'Oct.', 'Nov.', 'Dec.']\n",
    "months = ['01', '02', '03', '04', '05', '06', '07', '08', '09', '10', '11', '12']\n",
    "\n",
    "keywordsSetOne = ['cve', 'vulnerability', 'exploit']\n",
    "keywordsSetTwo = ['ransomware', 'hacktivism', 'cyber espionage']\n",
    "\n",
    "conn = pyes.es.ES('127.0.0.1:9200')"
   ]
  },
  {
   "cell_type": "code",
   "execution_count": 3,
   "metadata": {
    "collapsed": false
   },
   "outputs": [
    {
     "name": "stdout",
     "output_type": "stream",
     "text": [
      "40\n"
     ]
    }
   ],
   "source": [
    "# 2. a) 共計有多少Twitter參與這類關鍵字議題討論？\n",
    "\n",
    "boolQuery = pyes.query.BoolQuery()\n",
    "\n",
    "#termQuery = pyes.query.TermQuery(field = 'text', value = 'cve')\n",
    "\n",
    "termFilter = pyes.filters.TermsFilter(field = 'text', values = keywordsSetTwo)\n",
    "\n",
    "esrange = pyes.ESRange(field = 'created_at',\n",
    "                       from_value = 'Wed Jan 01 00:00:00 +0000 2014',\n",
    "                       to_value = 'Wed Dec 31 23:59:59 +0000 2014', \n",
    "                       include_lower = True,\n",
    "                       include_upper = False)\n",
    "rangeQuery = pyes.query.RangeQuery(qrange = esrange)\n",
    "\n",
    "boolQuery.add_must(termFilter)\n",
    "boolQuery.add_must(rangeQuery)\n",
    "\n",
    "termAgg = pyes.aggs.TermsAgg('uid', field = 'uid')\n",
    "\n",
    "querySearch = pyes.query.Search(boolQuery)\n",
    "querySearch.agg.add(termAgg)\n",
    "\n",
    "result = conn.search(query = querySearch, indices = 'twitter2', type = 'tweet')\n",
    "\n",
    "#print(json.dumps(result.aggs, indent = 2))\n",
    "\n",
    "uidIdxList = []\n",
    "\n",
    "for uid in result.aggs['uid']['buckets']:\n",
    "        uidIdxList.append(uid['key'])\n",
    "        \n",
    "print (len(uidIdxList))"
   ]
  },
  {
   "cell_type": "code",
   "execution_count": 4,
   "metadata": {
    "collapsed": false
   },
   "outputs": [
    {
     "name": "stdout",
     "output_type": "stream",
     "text": [
      "220\n"
     ]
    }
   ],
   "source": [
    "# 2. b) 共計有多少Tweets?\n",
    "boolQuery = pyes.query.BoolQuery()\n",
    "\n",
    "termFilter = pyes.filters.TermsFilter(field = 'text', values = keywordsSetTwo)\n",
    "\n",
    "esrange = pyes.ESRange(field = 'created_at',\n",
    "                       from_value = 'Wed Jan 01 00:00:00 +0000 2014',\n",
    "                       to_value = 'Wed Dec 31 23:59:59 +0000 2014', \n",
    "                       include_lower = True,\n",
    "                       include_upper = False)\n",
    "rangeQuery = pyes.query.RangeQuery(qrange = esrange)\n",
    "\n",
    "boolQuery.add_must(termFilter)\n",
    "boolQuery.add_must(rangeQuery)\n",
    "\n",
    "result = conn.search(query = boolQuery, indices = 'twitter2', type = 'tweet')\n",
    "\n",
    "print(len(result))"
   ]
  },
  {
   "cell_type": "code",
   "execution_count": 5,
   "metadata": {
    "collapsed": false
   },
   "outputs": [
    {
     "name": "stdout",
     "output_type": "stream",
     "text": [
      "[6, 6, 4, 4, 15, 21, 12, 10, 10, 6, 10, 16]\n"
     ]
    }
   ],
   "source": [
    "# 2. c) 每個月參與的Twitter數量長條圖。\n",
    "\n",
    "boolQuery = pyes.query.BoolQuery()\n",
    "\n",
    "termFilter = pyes.filters.TermsFilter(field = 'text', values = keywordsSetTwo)\n",
    "\n",
    "esrange = pyes.ESRange(field = 'created_at',\n",
    "                       from_value = 'Wed Jan 01 00:00:00 +0000 2014',\n",
    "                       to_value = 'Wed Dec 31 23:59:59 +0000 2014', \n",
    "                       include_lower = True,\n",
    "                       include_upper = False)\n",
    "rangeQuery = pyes.query.RangeQuery(qrange = esrange)\n",
    "\n",
    "boolQuery.add_must(termFilter)\n",
    "boolQuery.add_must(rangeQuery)\n",
    "\n",
    "\n",
    "termAgg = pyes.aggs.DateHistogramAgg('month',\n",
    "                                  field = 'created_at',\n",
    "                                  interval = 'month',\n",
    "                                  sub_aggs = [])\n",
    "\n",
    "termAggInner = pyes.aggs.TermsAgg('uid', field = 'uid')\n",
    "\n",
    "termAgg.sub_aggs.append(termAggInner)\n",
    "\n",
    "querySearch = pyes.query.Search(boolQuery)\n",
    "querySearch.agg.add(termAgg)\n",
    "\n",
    "result = conn.search(query = querySearch, indices = 'twitter2', type = 'tweet')\n",
    "\n",
    "#print(json.dumps(result.aggs, indent = 2))\n",
    "\n",
    "numOfTweetForEachUserInEachMonth = []\n",
    "\n",
    "idxOfMonth = 0\n",
    "for month in result.aggs['month']['buckets']:\n",
    "        numOfTweetForEachUserInEachMonth.append([])\n",
    "        for uid in month['uid']['buckets']:\n",
    "            numOfTweetForEachUserInEachMonth[idxOfMonth].append(uid['doc_count'])\n",
    "        idxOfMonth += 1\n",
    "\n",
    "numOfTwitterInEachMonth = []\n",
    "\n",
    "for i in range(0, len(numOfTweetForEachUserInEachMonth)):\n",
    "    #print(numOfTweetForEachUserInEachMonth[i])\n",
    "    numOfTwitterInEachMonth.append(len(numOfTweetForEachUserInEachMonth[i]))\n",
    "    \n",
    "print(numOfTwitterInEachMonth)\n",
    "\n",
    "from bokeh.charts import Bar, output_file, show, hplot\n",
    "\n",
    "# best support is with data in a format that is table-like\n",
    "\n",
    "data = {\n",
    "    'months': months,\n",
    "    'numOfTwitterInEachMonth': numOfTwitterInEachMonth\n",
    "}\n",
    "\n",
    "# x-axis labels pulled from the interpreter column, stacking labels from sample column\n",
    "numOfTwitterInEachMonthBar = Bar(data,\n",
    "                                 values='numOfTwitterInEachMonth',\n",
    "                                 label='months',\n",
    "                                 title=\"numOfTwitterInEachMonth\",\n",
    "                                 plot_width=400)\n",
    "\n",
    "output_file(\"numOfTwitterInEachMonthBar.html\")\n",
    "show(numOfTwitterInEachMonthBar)"
   ]
  },
  {
   "cell_type": "code",
   "execution_count": 6,
   "metadata": {
    "collapsed": false
   },
   "outputs": [
    {
     "name": "stderr",
     "output_type": "stream",
     "text": [
      "INFO:bokeh.core.state:Session output file 'numOfTweetInEachMonthBar.html' already exists, will be overwritten.\n"
     ]
    },
    {
     "name": "stdout",
     "output_type": "stream",
     "text": [
      "[7, 7, 5, 6, 29, 48, 22, 19, 16, 17, 19, 25]\n"
     ]
    }
   ],
   "source": [
    "# 2. d) 每個月參Tweets數量長條圖。\n",
    "\n",
    "boolQuery = pyes.query.BoolQuery()\n",
    "\n",
    "termFilter = pyes.filters.TermsFilter(field = 'text', values = keywordsSetTwo)\n",
    "\n",
    "esrange = pyes.ESRange(field = 'created_at',\n",
    "                       from_value = 'Wed Jan 01 00:00:00 +0000 2014',\n",
    "                       to_value = 'Wed Dec 31 23:59:59 +0000 2014', \n",
    "                       include_lower = True,\n",
    "                       include_upper = False)\n",
    "rangeQuery = pyes.query.RangeQuery(qrange = esrange)\n",
    "\n",
    "boolQuery.add_must(termFilter)\n",
    "boolQuery.add_must(rangeQuery)\n",
    "\n",
    "\n",
    "termAgg = pyes.aggs.DateHistogramAgg('month',\n",
    "                                  field = 'created_at',\n",
    "                                  interval = 'month',\n",
    "                                  sub_aggs = [])\n",
    "\n",
    "querySearch = pyes.query.Search(boolQuery)\n",
    "querySearch.agg.add(termAgg)\n",
    "\n",
    "result = conn.search(query = querySearch, indices = 'twitter2', type = 'tweet')\n",
    "\n",
    "#print(json.dumps(result.aggs, indent = 2))\n",
    "\n",
    "numOfTweetInEachMonth = []\n",
    "\n",
    "for month in result.aggs['month']['buckets']:\n",
    "        numOfTweetInEachMonth.append(month['doc_count'])\n",
    "\n",
    "print(numOfTweetInEachMonth)\n",
    "\n",
    "data = {\n",
    "    'months': months,\n",
    "    'numOfTweetInEachMonth': numOfTweetInEachMonth\n",
    "}\n",
    "\n",
    "# x-axis labels pulled from the interpreter column, stacking labels from sample column\n",
    "numOfTweetInEachMonthBar = Bar(data,\n",
    "                                 values='numOfTweetInEachMonth',\n",
    "                                 label='months',\n",
    "                                 title=\"numOfTweetInEachMonth\",\n",
    "                                 plot_width=400)\n",
    "\n",
    "output_file(\"numOfTweetInEachMonthBar.html\")\n",
    "show(numOfTweetInEachMonthBar)"
   ]
  },
  {
   "cell_type": "code",
   "execution_count": 7,
   "metadata": {
    "collapsed": false
   },
   "outputs": [
    {
     "name": "stdout",
     "output_type": "stream",
     "text": [
      "209\n",
      "11\n"
     ]
    },
    {
     "data": {
      "text/plain": [
       "<matplotlib.axes._subplots.AxesSubplot at 0xad30eb8>"
      ]
     },
     "execution_count": 7,
     "metadata": {},
     "output_type": "execute_result"
    },
    {
     "data": {
      "image/png": "[encoded data removed]",
      "text/plain": [
       "<matplotlib.figure.Figure at 0x9342860>"
      ]
     },
     "metadata": {},
     "output_type": "display_data"
    }
   ],
   "source": [
    "# 2. e)其中有URL與無URL的Tweets的比例圓餅圖。\n",
    "\n",
    "numOfTweetHaveURL = 0\n",
    "numOfTweetDontHaveURL = 0\n",
    "for i in range(0, len(result)):\n",
    "    if result[i]['entities']['urls'] != []:\n",
    "        numOfTweetHaveURL += 1\n",
    "\n",
    "numOfTweetDontHaveURL = len(result) - numOfTweetHaveURL\n",
    "\n",
    "print(numOfTweetHaveURL)\n",
    "print(numOfTweetDontHaveURL)\n",
    "\n",
    "plotData = [numOfTweetHaveURL, numOfTweetDontHaveURL]\n",
    "plotIdx = ['numOfTweetHaveURL', 'numOfTweetDontHaveURL']\n",
    "\n",
    "series = pd.Series(plotData, plotIdx, name = \"have/don't have url\")\n",
    "series.plot.pie(colors=['b', 'r'], autopct='%.2f', fontsize=20, figsize=(6, 6))"
   ]
  },
  {
   "cell_type": "code",
   "execution_count": 8,
   "metadata": {
    "collapsed": false
   },
   "outputs": [
    {
     "name": "stdout",
     "output_type": "stream",
     "text": [
      "[3, 10, 10, 13, 10, 11, 6, 8, 28, 27, 10, 6]\n"
     ]
    },
    {
     "name": "stderr",
     "output_type": "stream",
     "text": [
      "INFO:bokeh.core.state:Session output file 'numOfTweetForEachUserInEachMonth.html' already exists, will be overwritten.\n"
     ]
    }
   ],
   "source": [
    "# 2. f) 請依照每個月繪製各Twitter所提到CVE的箱型圖。\n",
    "\n",
    "\n",
    "boolQuery = pyes.query.BoolQuery()\n",
    "\n",
    "termQuery = pyes.query.TermQuery(field = 'text', value = 'cve')\n",
    "\n",
    "esrange = pyes.ESRange(field = 'created_at',\n",
    "                       from_value = 'Wed Jan 01 00:00:00 +0000 2014',\n",
    "                       to_value = 'Wed Dec 31 23:59:59 +0000 2014', \n",
    "                       include_lower = True,\n",
    "                       include_upper = False)\n",
    "rangeQuery = pyes.query.RangeQuery(qrange = esrange)\n",
    "\n",
    "boolQuery.add_must(termQuery)\n",
    "boolQuery.add_must(rangeQuery)\n",
    "\n",
    "\n",
    "termAgg = pyes.aggs.DateHistogramAgg('month',\n",
    "                                  field = 'created_at',\n",
    "                                  interval = 'month',\n",
    "                                  sub_aggs = [])\n",
    "\n",
    "termAggInner = pyes.aggs.TermsAgg('uid', field = 'uid')\n",
    "\n",
    "termAgg.sub_aggs.append(termAggInner)\n",
    "\n",
    "querySearch = pyes.query.Search(boolQuery)\n",
    "querySearch.agg.add(termAgg)\n",
    "\n",
    "result = conn.search(query = querySearch, indices = 'twitter2', type = 'tweet')\n",
    "\n",
    "#print(json.dumps(result.aggs, indent = 2))\n",
    "\n",
    "numOfTweetForEachUserInEachMonth = []\n",
    "\n",
    "idxOfMonth = 0\n",
    "for month in result.aggs['month']['buckets']:\n",
    "        numOfTweetForEachUserInEachMonth.append([])\n",
    "        for uid in month['uid']['buckets']:\n",
    "            numOfTweetForEachUserInEachMonth[idxOfMonth].append(uid['doc_count'])\n",
    "        idxOfMonth += 1\n",
    "\n",
    "numOfTwitterInEachMonth = []\n",
    "\n",
    "for i in range(0, len(numOfTweetForEachUserInEachMonth)):\n",
    "    #print(numOfTweetForEachUserInEachMonth[i])\n",
    "    numOfTwitterInEachMonth.append(len(numOfTweetForEachUserInEachMonth[i]))\n",
    "    \n",
    "print(numOfTwitterInEachMonth)\n",
    "\n",
    "\n",
    "from bokeh.charts import BoxPlot, output_file, show\n",
    "\n",
    "plotData = []\n",
    "idxOfPlotData = 0\n",
    "\n",
    "for i in range(0, len(numOfTweetForEachUserInEachMonth)):\n",
    "    for j in range(0, len(numOfTweetForEachUserInEachMonth[i])):\n",
    "        pData = {}\n",
    "        pData['month'] = months[i]\n",
    "        pData['times'] = numOfTweetForEachUserInEachMonth[i][j]\n",
    "        \n",
    "        plotData.append(pData)\n",
    "        idxOfPlotData += 1\n",
    "\n",
    "df = pd.DataFrame(plotData)\n",
    "\n",
    "title = \"numOfTweetForEachUserInEachMonth\"\n",
    "box_plot = BoxPlot(df,\n",
    "                   label = 'month',\n",
    "                   values = 'times',\n",
    "                   color = 'month',\n",
    "                   title = title)\n",
    "\n",
    "output_file(\"numOfTweetForEachUserInEachMonth.html\",\n",
    "            title =\"numOfTweetForEachUserInEachMonth.py example\")\n",
    "\n",
    "show(box_plot)"
   ]
  },
  {
   "cell_type": "code",
   "execution_count": null,
   "metadata": {
    "collapsed": true
   },
   "outputs": [],
   "source": []
  }
 ],
 "metadata": {
  "anaconda-cloud": {},
  "kernelspec": {
   "display_name": "Python [conda root]",
   "language": "python",
   "name": "conda-root-py"
  },
  "language_info": {
   "codemirror_mode": {
    "name": "ipython",
    "version": 3
   },
   "file_extension": ".py",
   "mimetype": "text/x-python",
   "name": "python",
   "nbconvert_exporter": "python",
   "pygments_lexer": "ipython3",
   "version": "3.5.2"
  }
 },
 "nbformat": 4,
 "nbformat_minor": 1
}
